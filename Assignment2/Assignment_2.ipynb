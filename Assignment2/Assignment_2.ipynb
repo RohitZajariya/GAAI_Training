{
 "cells": [
  {
   "cell_type": "code",
   "execution_count": 1,
   "id": "93a1ccc4",
   "metadata": {},
   "outputs": [],
   "source": [
    "\n",
    "import os, sys, re, argparse, json\n",
    "import numpy as np\n",
    "import pandas as pd\n",
    "\n",
    "# Azure OpenAI (new SDK)\n",
    "from openai import AzureOpenAI\n",
    "# Chroma\n",
    "import chromadb\n",
    "from chromadb.api.models.Collection import Collection"
   ]
  },
  {
   "cell_type": "code",
   "execution_count": 2,
   "id": "feb4102b",
   "metadata": {},
   "outputs": [],
   "source": [
    "embedding_model_name = \"text-embedding-3-small\""
   ]
  },
  {
   "cell_type": "code",
   "execution_count": 3,
   "id": "d325b48e",
   "metadata": {},
   "outputs": [],
   "source": [
    "# from langchain_openai import AzureOpenAIEmbeddings\n",
    "# embeddings = AzureOpenAIEmbeddings(model=embedding_model_name,\n",
    "#                                    azure_endpoint=os.environ[\"AZURE_OPENAI_ENDPOINT\"])"
   ]
  },
  {
   "cell_type": "code",
   "execution_count": 4,
   "id": "1832f4e6",
   "metadata": {},
   "outputs": [],
   "source": [
    "def concat(title: str, desc: str) -> str:\n",
    "    return f\"{(title)} :: {(desc)}\"\n",
    "\n",
    "def cosine(a: np.ndarray, b: np.ndarray) -> float:\n",
    "    # d = (np.linalg(a) * np.linalg(b))\n",
    "    similarity = np.dot(a, b) / (np.linalg.norm(a) * np.linalg.norm(b))\n",
    "    return similarity\n",
    "\n",
    "def quoted_titles(q: str) -> set:\n",
    "    # find things inside double or single quotes -> treat as exact course titles to exclude\n",
    "    return {(x) for x in re.findall(r\"[\\\"“](.*?)[\\\"”]\", q) if x.strip()}"
   ]
  },
  {
   "cell_type": "code",
   "execution_count": 5,
   "id": "b407a8ff",
   "metadata": {},
   "outputs": [],
   "source": [
    "import os\n",
    "vector_db_path = \"VectorDB_Chroma\"\n",
    "if os.path.isdir(vector_db_path):\n",
    "    pass\n",
    "else:\n",
    "    os.makedirs(vector_db_path,exist_ok=True)\n"
   ]
  },
  {
   "cell_type": "code",
   "execution_count": 6,
   "id": "cef27072",
   "metadata": {},
   "outputs": [],
   "source": [
    "col = chromadb.PersistentClient(path = vector_db_path).get_or_create_collection(name = \"courses\")"
   ]
  },
  {
   "cell_type": "code",
   "execution_count": 7,
   "id": "9309dbc5",
   "metadata": {},
   "outputs": [],
   "source": [
    "def embed_text(texts):\n",
    "    r = client.embeddings.create(model = embedding_model_name, input = texts)\n",
    "    return [d.embedding for d in r.data]"
   ]
  },
  {
   "cell_type": "code",
   "execution_count": 11,
   "id": "09a7703d",
   "metadata": {},
   "outputs": [],
   "source": [
    "client = AzureOpenAI()"
   ]
  },
  {
   "cell_type": "code",
   "execution_count": null,
   "id": "c27e80b1",
   "metadata": {},
   "outputs": [],
   "source": [
    "if col.count() == 0:\n",
    "    df = pd.read_csv(\"assignment2dataset.csv\")\n",
    "    ids = df['course_id'].astype(str).tolist()\n",
    "    metas = [{\"title\" : t, \"description\" : d} for t,d in zip(df['title'], df['description'])]\n",
    "    texts = [concat(m['title'], m[\"description\"]) for m in metas]\n",
    "    \n",
    "    for i in range(0, len(texts)):\n",
    "        chunk = texts[i]\n",
    "        e = embed_text(chunk)\n",
    "        col.upsert(ids = ids[i], embeddings = e, metadatas = metas[i])"
   ]
  },
  {
   "cell_type": "code",
   "execution_count": 9,
   "id": "d88c11e8",
   "metadata": {},
   "outputs": [],
   "source": [
    "query = input(\"Query\")"
   ]
  },
  {
   "cell_type": "code",
   "execution_count": 12,
   "id": "29f9febb",
   "metadata": {},
   "outputs": [],
   "source": [
    "q_embed = np.array(embed_text([query])[0])\n",
    "res = col.query(query_embeddings = [q_embed.tolist()], n_results = 5, include = [\"metadatas\",\"embeddings\"])"
   ]
  },
  {
   "cell_type": "code",
   "execution_count": 13,
   "id": "9261269f",
   "metadata": {},
   "outputs": [],
   "source": [
    "ids = res[\"ids\"][0]\n",
    "metas = res[\"metadatas\"][0]\n",
    "embs = res[\"embeddings\"][0]"
   ]
  },
  {
   "cell_type": "code",
   "execution_count": 14,
   "id": "95049d71",
   "metadata": {},
   "outputs": [],
   "source": [
    "out = []\n",
    "for cid, meta, e in zip(ids, metas, embs):\n",
    "    title = meta.get(\"title\", \"\")\n",
    "    sim = cosine(q_embed, np.array(e))\n",
    "    out.append({\n",
    "        \"course_id\" : cid,\n",
    "        \"title\" : title,\n",
    "        \"cosine_similarity\" : round(sim, 6),\n",
    "        \"description\" : meta.get(\"description\", \"\")\n",
    "    })\n",
    "\n",
    "out.sort(key = lambda x: x['cosine_similarity'], reverse = True)\n"
   ]
  },
  {
   "cell_type": "code",
   "execution_count": 16,
   "id": "de81d644",
   "metadata": {},
   "outputs": [
    {
     "data": {
      "text/plain": [
       "[{'course_id': 'C016',\n",
       "  'title': 'Python Programming for Data Science',\n",
       "  'cosine_similarity': 0.548732,\n",
       "  'description': 'Learn Python fundamentals for data science: variables, control flow, functions, and object-oriented programming. Advance to data handling with pandas, numerical computing with NumPy, and basic plotting with matplotlib. You’ll build reproducible data workflows, clean and transform datasets, and perform exploratory analysis, laying the groundwork for machine learning and statistical modeling projects.'},\n",
       " {'course_id': 'C014',\n",
       "  'title': 'Data Visualization with Tableau',\n",
       "  'cosine_similarity': 0.434369,\n",
       "  'description': 'Transform raw data into compelling visual stories using Tableau. Learn to connect to diverse data sources, create interactive dashboards, and apply best practices in chart selection. Topics include calculated fields, parameters, LOD expressions, and storytelling features. Through real-world case studies, you’ll design user-driven analytics that reveal trends and drive data-informed decision making.'},\n",
       " {'course_id': 'C011',\n",
       "  'title': 'Big Data Analytics with Spark',\n",
       "  'cosine_similarity': 0.423902,\n",
       "  'description': 'Process and analyze large datasets using Apache Spark and PySpark. The course covers RDDs, DataFrames, Spark SQL, and MLlib for machine learning at scale. You’ll learn cluster deployment on YARN or Kubernetes, performance tuning, and structured streaming for real-time analytics. Hands-on projects include building ETL pipelines and interactive dashboards, unlocking insights from big data.'},\n",
       " {'course_id': 'C004',\n",
       "  'title': 'Computer Vision and Image Processing',\n",
       "  'cosine_similarity': 0.412169,\n",
       "  'description': 'Learn the principles of computer vision and image processing. Topics include filtering, edge detection, feature extraction, image segmentation, object detection, and image classification using CNNs. Hands-on labs in Python leverage OpenCV, scikit-image, and TensorFlow. By project’s end, you will build a pipeline to analyze and classify images, detect objects, and perform real-time video processing.'},\n",
       " {'course_id': 'C017',\n",
       "  'title': 'R Programming and Statistical Analysis',\n",
       "  'cosine_similarity': 0.411303,\n",
       "  'description': 'Get introduced to R for statistical computing and graphics. Topics include data structures, control flow, and functional programming. Use tidyverse libraries—dplyr, ggplot2, tidyr—for data manipulation and visualization. Explore hypothesis testing, regression analysis, and ANOVA. Through labs, apply statistical methods to real-world datasets and communicate results with reproducible R Markdown reports.'}]"
      ]
     },
     "execution_count": 16,
     "metadata": {},
     "output_type": "execute_result"
    }
   ],
   "source": [
    "out"
   ]
  },
  {
   "cell_type": "code",
   "execution_count": null,
   "id": "9ced3231",
   "metadata": {},
   "outputs": [],
   "source": []
  }
 ],
 "metadata": {
  "kernelspec": {
   "display_name": "genai",
   "language": "python",
   "name": "python3"
  },
  "language_info": {
   "codemirror_mode": {
    "name": "ipython",
    "version": 3
   },
   "file_extension": ".py",
   "mimetype": "text/x-python",
   "name": "python",
   "nbconvert_exporter": "python",
   "pygments_lexer": "ipython3",
   "version": "3.12.3"
  }
 },
 "nbformat": 4,
 "nbformat_minor": 5
}
